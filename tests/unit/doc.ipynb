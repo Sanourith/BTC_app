{
 "cells": [
  {
   "cell_type": "code",
   "execution_count": 5,
   "metadata": {},
   "outputs": [
    {
     "name": "stdout",
     "output_type": "stream",
     "text": [
      "✅ Test de création de répertoire réussi\n"
     ]
    }
   ],
   "source": [
    "## TEST setup_directories\n",
    "import pytest \n",
    "import tempfile\n",
    "import os \n",
    "import pandas as pd\n",
    "import json\n",
    "\n",
    "def test_setup_directories():\n",
    "    with tempfile.TemporaryDirectory() as tmpdirname:\n",
    "        test_dir = os.path.join(tmpdirname, \"new_directory\")\n",
    "\n",
    "        from btc_functions.load_database.mysql import setup_directories\n",
    "        setup_directories(test_dir)\n",
    "\n",
    "        assert os.path.exists(test_dir), \"Le répertoire n'a pas été créé correctement\"\n",
    "        print(\"✅ Test de création de répertoire réussi\")\n",
    "\n",
    "test_setup_directories()"
   ]
  },
  {
   "cell_type": "code",
   "execution_count": 8,
   "metadata": {},
   "outputs": [
    {
     "name": "stdout",
     "output_type": "stream",
     "text": [
      "✅ Test de conversion JSON -> CSV réussi\n"
     ]
    }
   ],
   "source": [
    "def test_convert_json_to_csv():\n",
    "    from btc_functions.load_database.mysql import convert_json_to_csv\n",
    "\n",
    "    # Créez un fichier JSON temporaire avec des données\n",
    "    with tempfile.TemporaryDirectory() as tmpdirname:\n",
    "        # Créez un fichier JSON de test\n",
    "        json_file = os.path.join(tmpdirname, 'test_data.json')\n",
    "        csv_file = os.path.join(tmpdirname, 'test_data.csv')\n",
    "        \n",
    "        # Vos données de test JSON ici\n",
    "        test_data = [\n",
    "                [\n",
    "                    1737241200000,\n",
    "                    \"104291.30000000\",\n",
    "                    \"104475.00000000\",\n",
    "                    \"104291.30000000\",\n",
    "                    \"104443.56000000\",\n",
    "                    \"83.55140000\",\n",
    "                    1737241499999,\n",
    "                    \"8722250.89667130\",\n",
    "                    12863,\n",
    "                    \"43.81979000\",\n",
    "                    \"4574770.78810830\",\n",
    "                    \"0\"]\n",
    "        ]\n",
    "        \n",
    "        with open(json_file, 'w') as f:\n",
    "            json.dump(test_data, f)\n",
    "        \n",
    "        # Appelez la fonction de conversion\n",
    "        convert_json_to_csv(json_file, csv_file)\n",
    "     \n",
    "        # Vérifiez que le fichier CSV a été créé\n",
    "        assert os.path.exists(csv_file), \"Le fichier CSV n'a pas été créé correctement...\"\n",
    "        \n",
    "        # Vérifiez le contenu du CSV\n",
    "        df = pd.read_csv(csv_file)\n",
    "\n",
    "        assert len(df) == 1, \"Le nombre de ligne est incorrect.\"\n",
    "        assert 'kline_open_time' in df.columns, \"Colonnes incorrectes.\"\n",
    "        assert df['kline_open_time'].iloc[0] == 1737241200000, \"Timestamp incorrect.\"\n",
    "\n",
    "        print(\"✅ Test de conversion JSON -> CSV réussi\")\n",
    "\n",
    "# Exécutez le test\n",
    "test_convert_json_to_csv()"
   ]
  },
  {
   "cell_type": "code",
   "execution_count": 10,
   "metadata": {},
   "outputs": [
    {
     "name": "stderr",
     "output_type": "stream",
     "text": [
      "File ignored : unknown_file.csv (not a known file).\n"
     ]
    },
    {
     "name": "stdout",
     "output_type": "stream",
     "text": [
      "✅ Test de get_table_name réussi\n"
     ]
    }
   ],
   "source": [
    "# La prochaine fonction à tester est get_table_name(). Créez un test qui vérifie si la fonction retourne le bon nom de table en fonction du nom de fichier.\n",
    "# Indices :\n",
    "\n",
    "# Testez différents noms de fichiers\n",
    "# Vérifiez les cas spécifiques (klines, 24h, daily)\n",
    "# Utilisez une assertion pour chaque cas\n",
    "# Pensez au cas \"unknownfile\"\n",
    "import os\n",
    "import tempfile\n",
    "\n",
    "def test_get_table_name():\n",
    "    from btc_functions.load_database.mysql import get_table_name\n",
    "    \n",
    "    # Testez directement avec les noms de fichiers sans créer des fichiers physiques\n",
    "    assert get_table_name(\"prices_BTC_klines_2023-01-01.csv\") == \"klines\", \"Problème de retour pour klines\"\n",
    "    assert get_table_name(\"unknown_file.csv\") == \"unknownfile\", \"Problème retour pour fichier inconnu\"\n",
    "    assert get_table_name(\"prices_BTC_24h_2023-01-01.csv\") == \"ticker24h\", \"Problème retour pour 24h\"\n",
    "    assert get_table_name(\"prices_BTC_daily_2023-01-01.csv\") == \"daily\", \"Problème retour pour daily\"\n",
    "\n",
    "    print(\"✅ Test de get_table_name réussi\")\n",
    "\n",
    "# Exécutez le test\n",
    "test_get_table_name()\n"
   ]
  }
 ],
 "metadata": {
  "kernelspec": {
   "display_name": "venv",
   "language": "python",
   "name": "python3"
  },
  "language_info": {
   "codemirror_mode": {
    "name": "ipython",
    "version": 3
   },
   "file_extension": ".py",
   "mimetype": "text/x-python",
   "name": "python",
   "nbconvert_exporter": "python",
   "pygments_lexer": "ipython3",
   "version": "3.12.3"
  }
 },
 "nbformat": 4,
 "nbformat_minor": 2
}
