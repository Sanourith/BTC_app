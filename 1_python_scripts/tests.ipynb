{
 "cells": [
  {
   "cell_type": "code",
   "execution_count": 1,
   "metadata": {},
   "outputs": [],
   "source": [
    "from logging import getLogger\n",
    "from datetime import datetime\n",
    "import pandas as pd\n",
    "from btc_functions.logging.logger_config import setup_logger\n",
    "import os\n",
    "from dotenv import load_dotenv\n",
    "import btc_functions.database.mysql as db_functions"
   ]
  },
  {
   "cell_type": "code",
   "execution_count": 2,
   "metadata": {},
   "outputs": [
    {
     "name": "stdout",
     "output_type": "stream",
     "text": [
      "      kline_open_time  open_price  high_price  low_price  close_price  \\\n",
      "0       1731711600000    91208.00    91391.53   91168.39     91304.00   \n",
      "1       1731711900000    91304.01    91411.76   91268.43     91387.35   \n",
      "2       1731712200000    91387.36    91433.60   91329.18     91433.59   \n",
      "3       1731712500000    91433.59    91450.00   91270.55     91301.36   \n",
      "4       1731712800000    91301.36    91369.89   91273.68     91317.21   \n",
      "...               ...         ...         ...        ...          ...   \n",
      "5179    1731105300000    76520.00    76526.98   76480.95     76480.96   \n",
      "5180    1731105600000    76480.95    76509.23   76421.02     76509.23   \n",
      "5181    1731105900000    76509.02    76509.02   76402.04     76449.33   \n",
      "5182    1731106200000    76449.33    76454.00   76311.11     76371.59   \n",
      "5183    1731106500000    76371.59    76371.59   76303.03     76369.12   \n",
      "\n",
      "        volume  kline_close_time  quote_asset_volume  number_of_trades  \\\n",
      "0     83.76451     1731711899999        7.644682e+06             15593   \n",
      "1     92.80543     1731712199999        8.478333e+06             16054   \n",
      "2     78.97259     1731712499999        7.218127e+06             11712   \n",
      "3     84.43458     1731712799999        7.713827e+06             12654   \n",
      "4     50.69690     1731713099999        4.629533e+06              9967   \n",
      "...        ...               ...                 ...               ...   \n",
      "5179  42.06829     1731105599999        3.218343e+06              8290   \n",
      "5180  45.73488     1731105899999        3.497299e+06              6470   \n",
      "5181  44.58005     1731106199999        3.407404e+06              6383   \n",
      "5182  80.68916     1731106499999        6.162036e+06             10938   \n",
      "5183  27.22471     1731106799999        2.078428e+06              6473   \n",
      "\n",
      "      taker_buy_base_asset_volume  taker_buy_quote_asset_volume  \n",
      "0                        46.64674                  4.257515e+06  \n",
      "1                        39.42565                  3.601531e+06  \n",
      "2                        56.66699                  5.179278e+06  \n",
      "3                        46.75681                  4.272185e+06  \n",
      "4                        22.11481                  2.019425e+06  \n",
      "...                           ...                           ...  \n",
      "5179                     19.14688                  1.464649e+06  \n",
      "5180                     22.44688                  1.716466e+06  \n",
      "5181                     21.60111                  1.650808e+06  \n",
      "5182                     21.98303                  1.678531e+06  \n",
      "5183                     12.39842                  9.465207e+05  \n",
      "\n",
      "[5184 rows x 11 columns]\n"
     ]
    }
   ],
   "source": [
    "load_dotenv(\"/home/sanou/BTC_app/env/private.env\")\n",
    "table_name = \"klines\"\n",
    "engine = db_functions.create_connection()\n",
    "query = f\"SELECT * FROM {table_name}\"\n",
    "df = pd.read_sql_query(query, engine)\n",
    "\n",
    "print(df)"
   ]
  },
  {
   "cell_type": "code",
   "execution_count": 3,
   "metadata": {},
   "outputs": [
    {
     "name": "stdout",
     "output_type": "stream",
     "text": [
      "      kline_open_time  open_price  high_price  low_price  close_price  \\\n",
      "0 2024-11-16 00:00:00    91208.00    91391.53   91168.39     91304.00   \n",
      "1 2024-11-16 00:05:00    91304.01    91411.76   91268.43     91387.35   \n",
      "2 2024-11-16 00:10:00    91387.36    91433.60   91329.18     91433.59   \n",
      "3 2024-11-16 00:15:00    91433.59    91450.00   91270.55     91301.36   \n",
      "4 2024-11-16 00:20:00    91301.36    91369.89   91273.68     91317.21   \n",
      "\n",
      "     volume        kline_close_time  quote_asset_volume  number_of_trades  \\\n",
      "0  83.76451 2024-11-16 00:04:59.999        7.644682e+06             15593   \n",
      "1  92.80543 2024-11-16 00:09:59.999        8.478333e+06             16054   \n",
      "2  78.97259 2024-11-16 00:14:59.999        7.218127e+06             11712   \n",
      "3  84.43458 2024-11-16 00:19:59.999        7.713827e+06             12654   \n",
      "4  50.69690 2024-11-16 00:24:59.999        4.629533e+06              9967   \n",
      "\n",
      "   taker_buy_base_asset_volume  taker_buy_quote_asset_volume  \n",
      "0                     46.64674                  4.257515e+06  \n",
      "1                     39.42565                  3.601531e+06  \n",
      "2                     56.66699                  5.179278e+06  \n",
      "3                     46.75681                  4.272185e+06  \n",
      "4                     22.11481                  2.019425e+06  \n"
     ]
    },
    {
     "name": "stderr",
     "output_type": "stream",
     "text": [
      "/tmp/ipykernel_4875/247765368.py:3: FutureWarning: DataFrame.applymap has been deprecated. Use DataFrame.map instead.\n",
      "  df[cols] = df[cols].applymap(lambda x: datetime.fromtimestamp(x / 1000))\n"
     ]
    }
   ],
   "source": [
    "def reverse_timestamp(df, col1, col2=None) -> pd.DataFrame:\n",
    "    cols = [col1, col2]\n",
    "    df[cols] = df[cols].applymap(lambda x: datetime.fromtimestamp(x / 1000))\n",
    "    return df\n",
    "\n",
    "\n",
    "col1 = \"kline_open_time\"\n",
    "col2 = \"kline_close_time\"\n",
    "df = reverse_timestamp(\n",
    "    df, col1, col2\n",
    ")\n",
    "\n",
    "print(df.head())"
   ]
  }
 ],
 "metadata": {
  "kernelspec": {
   "display_name": "venv",
   "language": "python",
   "name": "python3"
  },
  "language_info": {
   "codemirror_mode": {
    "name": "ipython",
    "version": 3
   },
   "file_extension": ".py",
   "mimetype": "text/x-python",
   "name": "python",
   "nbconvert_exporter": "python",
   "pygments_lexer": "ipython3",
   "version": "3.12.3"
  }
 },
 "nbformat": 4,
 "nbformat_minor": 2
}
